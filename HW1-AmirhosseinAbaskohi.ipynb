{
  "nbformat": 4,
  "nbformat_minor": 0,
  "metadata": {
    "colab": {
      "provenance": []
    },
    "kernelspec": {
      "name": "python3",
      "display_name": "Python 3"
    }
  },
  "cells": [
    {
      "cell_type": "markdown",
      "metadata": {
        "id": "SgNZTjrhcHa0"
      },
      "source": [
        "## Homework 0, FMNLP Fall 2022\n",
        "### You have ten days for this assignment, please submit as PDF(File>Print>Save as PDF). 100 points total.\n",
        "\n",
        "#### IMPORTANT: After copying this notebook to your Google Drive, please paste a link to it below. To get a publicly-accessible link, hit the *Share* button at the top right, then click \"Get shareable link\" and copy over the result. If you fail to do this, you will receive no credit for this homework!\n",
        "\n",
        "\n",
        "---\n",
        "If you have any further questions or concerns, contact the TA via email:\n",
        "sheydaes@gmail.com\n",
        "Telegram: @Sheyddy\n",
        "\n",
        "***LINK: *https://colab.research.google.com/drive/1uTx6uUfB4G65cWW68FgGtZdgDx9bKF_v?usp=sharing****\n",
        "\n",
        "---\n",
        "\n",
        "##### *How to do this problem set:*\n",
        "\n",
        "- Some questions require writing Python code and computing results, and the rest of them have written answers. For coding problems, you will have to fill out all code blocks that say `YOUR CODE HERE`.\n",
        "\n",
        "- For text-based answers, you should replace the text that says \"Write your answer here...\" with your actual answer.\n",
        " \n",
        "- This assignment is designed so that you can run all cells almost instantly. If it is taking longer than that, you have made a mistake in your code.\n",
        "\n",
        "---\n",
        "\n",
        "##### *How to submit this problem set:*\n",
        "- Write all the answers in this Colab notebook. Once you are finished, generate a PDF via (File -> Print -> Save as PDF) and upload it to Elearn.\n",
        "  \n",
        "- **Important:** check your PDF before you submit to Elearn to make sure it exported correctly. If Colab gets confused about your syntax, it will sometimes terminate the PDF creation routine early.\n",
        "\n",
        "- When creating your final version of the PDF to hand in, please do a fresh restart and execute every cell in order. Then you'll be sure it's actually right. One handy way to do this is by clicking `Runtime -> Run All` in the notebook menu.\n",
        "\n",
        "---\n",
        "\n",
        "##### *Academic honesty*\n",
        "\n",
        "- We will audit the Colab notebooks from a set number of students, chosen at random. The audits will check that the code you wrote actually generates the answers in your PDF. If you turn in correct answers on your PDF without code that actually generates those answers, we will consider this a serious case of cheating. See the course page for honesty policies.\n",
        "\n",
        "- We will also run automatic checks of Colab notebooks for plagiarism. Copying code from others is also considered a serious case of cheating.\n",
        "\n",
        "---"
      ]
    },
    {
      "cell_type": "markdown",
      "metadata": {
        "id": "Jxa48WP8dXh9"
      },
      "source": [
        "##Question 1.1 (10 points)\n",
        "Let's begin with a quick probability review. In the task of language modeling, we're interested in computing the **joint** probability of some text. Say we have a sentence $s$ with $n$ words ($w_1, w_2, w_3, \\dots, w_n$) and we want to compute the joint probability $P(w_1, w_2, w_3, \\dots, w_n$). Assume we are given a model that produces the conditional probability of the next word in a sentence given all preceding words: $P(w_i|w_1,w_2,\\dots,w_{i-1})$. How can we use this model to compute the joint probability of sentence $s$?\n",
        "\n",
        "---\n"
      ]
    },
    {
      "cell_type": "markdown",
      "metadata": {
        "id": "NyrvDudjbPUO"
      },
      "source": [
        "To calcualte the joint provability using the conditional probabilities, we should use the chain rule in conditional probabilities. These conditional probabilities are provided by the mentioned language model:\n",
        "\n",
        "$P(w_1, w_2, ..., w_n) = P(w_n|w_{n-1},w_{n-2},...,w_1)P(w_{n-1}|w_{n-2}, w_{n-3}, ..., w_1)...P(w_1)$"
      ]
    },
    {
      "cell_type": "markdown",
      "metadata": {
        "id": "zsq0NIDzcfeC"
      },
      "source": [
        "##Question 1.2 (10 points)\n",
        "Why would we ever want to compute the joint probability of a sentence? Provide **two** different reasons why this probability might be useful to solve an NLP task.\n",
        "\n",
        "---"
      ]
    },
    {
      "cell_type": "markdown",
      "metadata": {
        "id": "9JLR5ML-dQ2t"
      },
      "source": [
        "The joint probability means we are paying attention to the context. Here we can consider two examples. \n",
        "\n",
        "The first one can be the translation task. For instance our model has predicted \"Pandas are kind of\" and it is going to predict the next word. Among \"Fruit\" and \"Animal\", by considering the joint probability we can say the answer is \"Animal\".\n",
        "\n",
        "Another one can be speech recognition when we have two similar words in terms of pronunciation. Finding difference between \"and\" and \"an\" can be investigated by the joint probability to find the best option.\n",
        "\n",
        "It is worthy to mention that the two example above are mainly for choosing by having the whole sentence(do not consider it as conditional probability calculation)"
      ]
    },
    {
      "cell_type": "markdown",
      "metadata": {
        "id": "EM2aVbUcYPXv"
      },
      "source": [
        "##Question 1.3 (5 points)\n",
        "Here is a simple way to build a language model: for any prefix $w_1, w_2, \\dots, w_{i-1}$, retrieve all occurrences of that prefix in some huge text corpus (such as the [Common Crawl](https://https://commoncrawl.org/)) and keep count of the word $w_i$ that follows each occurrence. I can then use this to estimate the conditional probability $P(w_i|w_1, w_2, \\dots, w_{i-1})$ for any prefix. Explain why this method is completely impractical!\n",
        "\n",
        "---"
      ]
    },
    {
      "cell_type": "markdown",
      "metadata": {
        "id": "crODlcAKfGcu"
      },
      "source": [
        "The counts and probabilities will both be 0 since there are insufficiently few phrases that may employ this prefix, and it's probable that the majority of them aren't found in the corpus. In fact, we'll never have access to enough information to calculate the likelihood in this manner. In addition, using the frequency of words for predicting the next word is impractical since it does not consider the whole text and just considers the word by themselves. As a result, the model does not have any idea about the semantics and predicts the word just by frequencies."
      ]
    },
    {
      "cell_type": "markdown",
      "metadata": {
        "id": "r1_cCBOwfPxI"
      },
      "source": [
        "##Question 2.1 (5 points)\n",
        "Let's switch over to coding! The below coding cell contains the opening paragraph of Daphne du Maurier's novel *Rebecca*. Write some code in this cell to compute the number of unique word **types** and total word **tokens** in this paragraph (watch the lecture videos if you're confused about what these terms mean!). Use a whitespace tokenizer to separate words (i.e., split the string on white space using Python's split function). Be sure that the cell's output is visible in the PDF file you turn in on Gradescope.\n",
        "\n",
        "---\n"
      ]
    },
    {
      "cell_type": "code",
      "metadata": {
        "id": "W9Fm6AQJQDFa",
        "colab": {
          "base_uri": "https://localhost:8080/"
        },
        "outputId": "ef7ded48-448b-4612-dcdf-32b529cd6834"
      },
      "source": [
        "paragraph = '''Last night I dreamed I went to Manderley again. It seemed to me\n",
        "that I was passing through the iron gates that led to the driveway.\n",
        "The drive was just a narrow track now, its stony surface covered\n",
        "with grass and weeds. Sometimes, when I thought I had lost it, it\n",
        "would appear again, beneath a fallen tree or beyond a muddy pool \n",
        "formed by the winter rains. The trees had thrown out new\n",
        "low branches which stretched across my way. I came to the house\n",
        "suddenly, and stood there with my heart beating fast and tears\n",
        "filling my eyes.'''.lower() # lowercase normalization is often useful in NLP\n",
        "\n",
        "types = 0\n",
        "tokens = 0\n",
        "\n",
        "# YOUR CODE HERE! POPULATE THE types AND tokens VARIABLES WITH THE CORRECT VALUES!\n",
        "\n",
        "paragraph = paragraph.replace(',', '')\n",
        "paragraph = paragraph.replace('.', '')\n",
        "splitted_paragraph = []\n",
        "\n",
        "for line in paragraph.splitlines():\n",
        "  splitted_paragraph.extend(line.split())\n",
        "\n",
        "tokens = len(splitted_paragraph)\n",
        "types = len(set(splitted_paragraph))\n",
        "\n",
        "# DO NOT MODIFY THE BELOW LINE!\n",
        "print('Number of word types: %d, number of word tokens:%d' % (types, tokens))"
      ],
      "execution_count": null,
      "outputs": [
        {
          "output_type": "stream",
          "name": "stdout",
          "text": [
            "Number of word types: 74, number of word tokens:100\n"
          ]
        }
      ]
    },
    {
      "cell_type": "markdown",
      "metadata": {
        "id": "_5f5YpclYjbh"
      },
      "source": [
        "##Question 2.2 (5 points)\n",
        "Now let's look at the most frequently used word **types** in this paragraph. Write some code in the below cell to print out the ten most frequently-occurring types. We have initialized a [Counter](https://docs.python.org/2/library/collections.html#collections.Counter) object that you should use for this purpose. In general, Counters are very useful for text processing in Python.\n",
        "\n",
        "---\n"
      ]
    },
    {
      "cell_type": "code",
      "metadata": {
        "id": "rpjx2fGbh_tp",
        "colab": {
          "base_uri": "https://localhost:8080/"
        },
        "outputId": "e52d4eac-f362-497a-f6f8-1756320fbf3d"
      },
      "source": [
        "from collections import Counter\n",
        "c = Counter(splitted_paragraph)\n",
        "\n",
        "# DO NOT MODIFY THE BELOW LINES!\n",
        "for word, count in c.most_common()[:10]:\n",
        "    print(word, count)"
      ],
      "execution_count": null,
      "outputs": [
        {
          "output_type": "stream",
          "name": "stdout",
          "text": [
            "i 6\n",
            "the 6\n",
            "to 4\n",
            "it 3\n",
            "a 3\n",
            "and 3\n",
            "my 3\n",
            "again 2\n",
            "that 2\n",
            "was 2\n"
          ]
        }
      ]
    },
    {
      "cell_type": "markdown",
      "metadata": {
        "id": "NQfA98xLjIv9"
      },
      "source": [
        "##Question 2.3 (5 points)\n",
        "What do you notice about these words and their linguistic functions (i.e., parts-of-speech)? These words are known as \"stopwords\" in NLP and are often removed from the text before any computational modeling is done. Why do you think that is?\n",
        "\n",
        "---"
      ]
    },
    {
      "cell_type": "markdown",
      "metadata": {
        "id": "0jj042SWkFvP"
      },
      "source": [
        "Since stop words are frequent and offer little to no unique information that may be utilized for classification or clustering, stop words are frequently eliminated from the text before training deep learning and machine learning models.\n",
        "\n"
      ]
    },
    {
      "cell_type": "markdown",
      "metadata": {
        "id": "y9OxWy-CYlp4"
      },
      "source": [
        "##Question 3.1 (10 points)\n",
        "In *neural* language models, we represent words with low-dimensional vectors also called *embeddings*. We use these embeddings to compute a vector representation $\\boldsymbol{x}$ of a given prefix, and then predict the probability of the next word conditioned on $\\boldsymbol{x}$. In the below cell, we use [PyTorch](https://pytorch.org), a machine learning framework, to explore this setup. We provide embeddings for the prefix \"Alice talked to\"; your job is to combine them into a single vector representation $\\boldsymbol{x}$ using [element-wise vector addition](https://ml-cheatsheet.readthedocs.io/en/latest/linear_algebra.html#elementwise-operations). \n",
        "\n",
        "*TIP: if you're finding the PyTorch coding problems difficult, you may want to run through [the 60 minutes blitz tutorial](https://pytorch.org/tutorials/beginner/deep_learning_60min_blitz.html)!*\n",
        "\n",
        "---"
      ]
    },
    {
      "cell_type": "code",
      "metadata": {
        "id": "Su_j1JY1QG5f",
        "colab": {
          "base_uri": "https://localhost:8080/"
        },
        "outputId": "8f59159a-6aff-42b1-de29-1ee424bc5492"
      },
      "source": [
        "import torch\n",
        "torch.set_printoptions(sci_mode=False)\n",
        "torch.manual_seed(0)\n",
        "\n",
        "prefix = 'Alice talked to'\n",
        "\n",
        "# spend some time understanding this code / reading relevant documentation! \n",
        "# this is a toy problem with a 5 word vocabulary and 10-d embeddings\n",
        "embeddings = torch.nn.Embedding(num_embeddings=5, embedding_dim=10)\n",
        "vocab = {'Alice':0, 'talked':1, 'to':2, 'Bob':3, '.':4}\n",
        "\n",
        "# we need to encode our prefix as integer indices (not words) that index \n",
        "# into the embeddings matrix. the below line accomplishes this.\n",
        "# note that PyTorch inputs are always Tensor objects, so we need\n",
        "# to create a LongTensor out of our list of indices first.\n",
        "indices = torch.LongTensor([vocab[w] for w in prefix.split()])\n",
        "prefix_embs = embeddings(indices)\n",
        "print('prefix embedding tensor size: ', prefix_embs.size())\n",
        "\n",
        "# okay! we now have three embeddings corresponding to each of the three\n",
        "# words in the prefix. write some code that adds them element-wise to obtain\n",
        "# a representation of the prefix! store your answer in a variable named \"x\".\n",
        "\n",
        "### YOUR CODE HERE!\n",
        "x = torch.zeros(10)\n",
        "for prefix_emb in prefix_embs:\n",
        "  x += prefix_emb\n",
        "\n",
        "### DO NOT MODIFY THE BELOW LINE\n",
        "print('embedding sum: ', x)\n"
      ],
      "execution_count": null,
      "outputs": [
        {
          "output_type": "stream",
          "name": "stdout",
          "text": [
            "prefix embedding tensor size:  torch.Size([3, 10])\n",
            "embedding sum:  tensor([-0.1770, -2.3993, -0.4721,  2.6568,  2.7157, -0.1408, -1.8421, -3.6277,\n",
            "         2.2783,  1.1165], grad_fn=<AddBackward0>)\n"
          ]
        }
      ]
    },
    {
      "cell_type": "markdown",
      "metadata": {
        "id": "F41LYDeoZPYI"
      },
      "source": [
        "##Question 3.2 (5 points)\n",
        "Modern language models do not use element-wise addition to combine the different word embeddings in the prefix into a single representation (a process called *composition*). What is a major issue with element-wise functions that makes them unsuitable for use as composition functions? \n",
        "\n",
        "---"
      ]
    },
    {
      "cell_type": "markdown",
      "metadata": {
        "id": "5MaDZekXs0C7"
      },
      "source": [
        "Although using a single represention will result in information loss anyway, using element-wise functions does not hold any information for us. For instance, in the provided $y = x1 + x2 + x3$ does not give us any information about those words since $x1$, $x2$, and $x3$ can be any word. In addition, the order of words is not encoded."
      ]
    },
    {
      "cell_type": "markdown",
      "metadata": {
        "id": "b-xGz2_cZVs7"
      },
      "source": [
        "##Question 3.3 (10 points)\n",
        "One very important function in neural language models (and for basically every task we'll look at this semester) is the [softmax](https://pytorch.org/docs/master/nn.functional.html#softmax), which is defined over an $n$-dimensional vector $<x_1, x_2, \\dots, x_n>$ as $\\text{softmax}(x_i) = \\frac{e^{x_i}}{\\sum_{1 \\leq j \\leq n} e^{x_j}}$. Let's say we have our prefix representation $\\boldsymbol{x}$ from before. We can use the softmax function, along with a linear projection using a matrix $W$, to go from $\\boldsymbol{x}$ to a probability distribution $p$ over the next word: $p = \\text{softmax}(W\\boldsymbol{x}). $Let's explore this in the code cell below:\n"
      ]
    },
    {
      "cell_type": "code",
      "metadata": {
        "id": "mClmHIeowL4V",
        "colab": {
          "base_uri": "https://localhost:8080/"
        },
        "outputId": "4f1f2824-92ff-4726-fe3b-dfebcd396101"
      },
      "source": [
        "# remember, our goal is to produce a probability distribution over the \n",
        "# next word, conditioned on the prefix representation x. This distribution\n",
        "# is thus over the entire vocabulary (i.e., it is a 5-dimensional vector).\n",
        "# take a look at the dimensionality of x, and you'll notice that it is a \n",
        "# 10-dimensional vector. first, we need to **project** this representation\n",
        "# down to 5-d. We'll do this using the below matrix:\n",
        "\n",
        "W = torch.rand(10, 5)\n",
        "\n",
        "# use this matrix to project x to a 5-d space, and then\n",
        "# use the softmax function to convert it to a probability distribution.\n",
        "# this will involve using PyTorch to compute a matrix/vector product.\n",
        "# look through the documentation if you're confused (torch.nn.functional.softmax)\n",
        "# please store your final probability distribution in the \"probs\" variable.\n",
        "\n",
        "### YOUR CODE HERE\n",
        "probs = torch.rand(5)\n",
        "probs = torch.nn.functional.softmax(torch.matmul(x, W))\n",
        "\n",
        "### DO NOT MODIFY THE BELOW LINE!\n",
        "print('probability distribution', probs)\n"
      ],
      "execution_count": null,
      "outputs": [
        {
          "output_type": "stream",
          "name": "stdout",
          "text": [
            "probability distribution tensor([0.0718, 0.0998, 0.1331, 0.6762, 0.0191], grad_fn=<SoftmaxBackward0>)\n"
          ]
        },
        {
          "output_type": "stream",
          "name": "stderr",
          "text": [
            "/usr/local/lib/python3.7/dist-packages/ipykernel_launcher.py:18: UserWarning: Implicit dimension choice for softmax has been deprecated. Change the call to include dim=X as an argument.\n"
          ]
        }
      ]
    },
    {
      "cell_type": "markdown",
      "metadata": {
        "id": "UOlrqnSqZ3H8"
      },
      "source": [
        "##Question 3.4 (15 points)\n",
        "So far, we have looked at just a single prefix (\"Alice talked to\"). In practice, it is common for us to compute many prefixes in one computation, as this enables us to take advantage of GPU parallelism and also obtain better gradient approximations (we'll talk more about the latter point later). This is called *batching*, where each prefix is an example in a larger batch. Here, you'll redo the computations from the previous cells, but instead of having one prefix, you'll have a batch of two prefixes. The final output of this cell should be a 2x5 matrix that contains two probability distributions, one for each prefix. **NOTE: YOU WILL LOSE POINTS IF YOU USE ANY LOOPS IN YOUR ANSWER!** Your code should be completely vectorized (a few large computations is faster than many smaller ones)."
      ]
    },
    {
      "cell_type": "code",
      "metadata": {
        "id": "OZarWwkESM7-",
        "colab": {
          "base_uri": "https://localhost:8080/"
        },
        "outputId": "5522c7fd-ad20-43ba-fff4-894d682ae442"
      },
      "source": [
        "\n",
        "# for this problem, we'll just copy our old prefix over three times\n",
        "# to form a batch. in practice, each example in the batch would be different.\n",
        "batch_indices = torch.cat(2 * [indices]).reshape((2, 3))\n",
        "batch_embs = embeddings(batch_indices)\n",
        "print('batch embedding tensor size: ', batch_embs.size())\n",
        "\n",
        "# now, follow the same procedure as before:\n",
        "# step 1: compose each example's embeddings into a single representation\n",
        "# using element-wise addition. HINT: check out the \"dim\" argument of the torch.sum function!\n",
        "\n",
        "batch_sum = torch.sum(batch_embs, dim=1)\n",
        "\n",
        "# step 2: project each composed representation into a 5-d space using matrix W\n",
        "# step 3: use the softmax function to obtain a 2x5 matrix with the probability distributions\n",
        "\n",
        "# please store this probability matrix in the \"batch_probs\" variable.\n",
        "\n",
        "batch_probs = torch.rand(2,5)\n",
        "batch_probs = torch.nn.functional.softmax(torch.matmul(batch_sum, W))\n",
        "\n",
        "\n",
        "### DO NOT MODIFY THE BELOW LINE\n",
        "print(\"batch probability distributions:\", batch_probs)"
      ],
      "execution_count": null,
      "outputs": [
        {
          "output_type": "stream",
          "name": "stdout",
          "text": [
            "batch embedding tensor size:  torch.Size([2, 3, 10])\n",
            "batch probability distributions: tensor([[0.0718, 0.0998, 0.1331, 0.6762, 0.0191],\n",
            "        [0.0718, 0.0998, 0.1331, 0.6762, 0.0191]], grad_fn=<SoftmaxBackward0>)\n"
          ]
        },
        {
          "output_type": "stream",
          "name": "stderr",
          "text": [
            "/usr/local/lib/python3.7/dist-packages/ipykernel_launcher.py:19: UserWarning: Implicit dimension choice for softmax has been deprecated. Change the call to include dim=X as an argument.\n"
          ]
        }
      ]
    },
    {
      "cell_type": "markdown",
      "metadata": {
        "id": "bTxHxdG5BpQU"
      },
      "source": [
        "## Question 4 (20 points)\n",
        "\n",
        "Choose  one  paper  from  [EMNLP 2021](https://aclanthology.org/events/emnlp-2021/#2021-emnlp-main) that you find interesting. A good way to do this is by scanning the titles and abstracts; there are hundreds of papers so take your time before selecting one!  Then, write a summary in  your own words of the paper you chose. Your summary should answer the following questions: what is its motivation? Why should anyone care about it? Were there things in the paper that you didn't understand at all? What were they? Fill out the below cell, and make sure to write 2-4 paragraphs for the summary to receive full credit! "
      ]
    },
    {
      "cell_type": "markdown",
      "metadata": {
        "id": "hpg8eU9wNBci"
      },
      "source": [
        "**Title of paper**: GOLD: Improving Out-of-Scope Detection in Dialogues using Data Augmentation\n",
        "\n",
        "**Authors**: Derek Chen, Zhou Yu\n",
        "\n",
        "**Conference name**: EMNLP 2021\n",
        "\n",
        "**URL**: https://aclanthology.org/2021.emnlp-main.35.pdf\n",
        "\n",
        "**Your summary**:\n",
        "\n",
        "Dialogue systems used in the real world must have the ability to recognize out-of-scope(OOS)circumstances. Although a perfect system would respond effectively in all conversational contexts, this is impossible since training data are limited and user inputs are not. When the model faces circumstances not addressed during training, such as novel user intentions, domain changes, or bespoke entities, out-of-distribution problems arise. Although previous approaches to OOS identification in text have showed considerable potential, they frequently presuppose that they would have access to enough labeled OOS data for training, which is impractical in open-world situations. This paper propose a method of Generating Out-of-scope Labels with Data augmentation (GOLD) to improve OOS.\n",
        "\n",
        "The task of out-of-distribution dialogues can be formulated as follows: Let $D_{direct} = \\{(x_1, y_1), ..., (x_n, y_n)\\}$ be a target dataset with a mix of in-scope and out-of-scope dialogues. The input context \n",
        "$x_i=\\{ (S_1,U_1),...,(S_i,U_i) \\}$\n",
        "system and user utterances within t turns of a conversation. The desired output $y_i ∈ [0, 1]$ is a binary label representing whether that context is out-of-scope, As a result the model should calculate: $P_{Θ}(y_i|x_i)$. In contrast, the problem tackled in this paper is indirect prediction, where only a limited or nonexistent number of OOS examples are available during training. \n",
        "\n",
        "The provided method, GOLD, starts with target data and sample to create a seed set. This set only obtais 1% of the size of the training set of $OOS_{known}$ and this is similar to observing OOS examples in the dev set for tuning params. In the next step, they extract matches from external source dataset which are similar os $OOS{_known}$ into shared embedding space and finally keep the closest 1000 source dialogues in cosine distance as \"matches\". After extracting these matches, we can generate some candidates. In this step, they replace a user utternace in an $OOS_{known}$ example with a match. Each new dialogue with swapped uttances now becomes a \"candidate\". The final step is running elections. It includes these three steps:\n",
        "- Obtain the best baseline from each of three categories\n",
        "- The three baselines vote on each potential match in election process\n",
        "- Candidate is an $OOS_{psuedo}$ example if majority of voters say it is out-of-scope.\n",
        "\n",
        "They use three conversation datasets to show the potency of their methodology, and our top models consistently surpass all baselines."
      ]
    }
  ]
}